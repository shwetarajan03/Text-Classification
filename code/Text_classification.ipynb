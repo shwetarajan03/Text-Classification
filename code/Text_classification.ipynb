{
  "nbformat": 4,
  "nbformat_minor": 0,
  "metadata": {
    "colab": {
      "name": "Text_classification.ipynb",
      "provenance": []
    },
    "kernelspec": {
      "name": "python3",
      "display_name": "Python 3"
    },
    "language_info": {
      "name": "python"
    }
  },
  "cells": [
    {
      "cell_type": "markdown",
      "metadata": {
        "id": "Ki6_S7MtWcyr"
      },
      "source": [
        "**Aim:** To develop a classification model to predict the Positive/Negative labels based on text content.\n",
        "\n",
        "**Steps involved to develop a classification model:**<br>\n",
        "* Read in a collection of documents - a corpus<br>\n",
        "* Transform text into numerical vector data using a pipeline<br>\n",
        "* Create a classifier<br>\n",
        "* Fit/train the classifier<br>\n",
        "* Test the classifier on new data<br>\n",
        "* Evaluate performance<br>"
      ]
    },
    {
      "cell_type": "markdown",
      "metadata": {
        "id": "4MuHk6BXlFjr"
      },
      "source": [
        "**Perform imports and load the dataset:**"
      ]
    },
    {
      "cell_type": "code",
      "metadata": {
        "id": "CbU0_u1TlSKN"
      },
      "source": [
        "import numpy as np\n",
        "import pandas as pd\n",
        "\n",
        "df = pd.read_csv('data/moviereviews.tsv', sep='\\t')\n",
        "df.head()"
      ],
      "execution_count": null,
      "outputs": []
    },
    {
      "cell_type": "code",
      "metadata": {
        "id": "AGppKdxFlUhW"
      },
      "source": [
        "len(df)"
      ],
      "execution_count": null,
      "outputs": []
    },
    {
      "cell_type": "markdown",
      "metadata": {
        "id": "f9jrhWbIlmuJ"
      },
      "source": [
        "**Check for missing values:**  \n",
        "* Detect & remove NaN values   \n",
        "* Detect & remove empty strings\n"
      ]
    },
    {
      "cell_type": "markdown",
      "metadata": {
        "id": "59ldepnLl0Ah"
      },
      "source": [
        "**Detect & remove NaN values:**"
      ]
    },
    {
      "cell_type": "code",
      "metadata": {
        "id": "31ATLBeGl2TY"
      },
      "source": [
        "# Check for the existence of NaN values in a cell:\n",
        "df.isnull().sum()"
      ],
      "execution_count": null,
      "outputs": []
    },
    {
      "cell_type": "code",
      "metadata": {
        "id": "dS_HYp7Ml53S"
      },
      "source": [
        "df.dropna(inplace=True)\n",
        "\n",
        "len(df)"
      ],
      "execution_count": null,
      "outputs": []
    },
    {
      "cell_type": "markdown",
      "metadata": {
        "id": "2nZuvzKul9LS"
      },
      "source": [
        "**Detect & remove empty strings:**"
      ]
    },
    {
      "cell_type": "code",
      "metadata": {
        "id": "_F6DcQ8QmAIM"
      },
      "source": [
        "blanks = []  # start with an empty list\n",
        "\n",
        "for i,lb,rv in df.itertuples():  # iterate over the DataFrame\n",
        "    if type(rv)==str:            # avoid NaN values\n",
        "        if rv.isspace():         # test 'review' for whitespace\n",
        "            blanks.append(i)     # add matching index numbers to the list\n",
        "        \n",
        "print(len(blanks), 'blanks: ', blanks)"
      ],
      "execution_count": null,
      "outputs": []
    },
    {
      "cell_type": "code",
      "metadata": {
        "id": "1BpOwS4gmDUG"
      },
      "source": [
        "df.drop(blanks, inplace=True)\n",
        "len(df)"
      ],
      "execution_count": null,
      "outputs": []
    },
    {
      "cell_type": "code",
      "metadata": {
        "id": "ByD_BfdtmKFv"
      },
      "source": [
        "#Take a quick look at the label column\n",
        "df['label'].value_counts()"
      ],
      "execution_count": null,
      "outputs": []
    },
    {
      "cell_type": "markdown",
      "metadata": {
        "id": "YrfGi5gQmN8r"
      },
      "source": [
        "**Split the data into train & test sets:**"
      ]
    },
    {
      "cell_type": "code",
      "metadata": {
        "id": "sAmwhrT9mU29"
      },
      "source": [
        "from sklearn.model_selection import train_test_split\n",
        "\n",
        "X = df['review']\n",
        "y = df['label']\n",
        "\n",
        "X_train, X_test, y_train, y_test = train_test_split(X, y, test_size=0.33, random_state=42)"
      ],
      "execution_count": null,
      "outputs": []
    },
    {
      "cell_type": "markdown",
      "metadata": {
        "id": "0cKD_1mTmWtd"
      },
      "source": [
        "**Build pipelines to vectorize the data, then train and fit a model:**"
      ]
    },
    {
      "cell_type": "code",
      "metadata": {
        "id": "oDQeDWVVmZX3"
      },
      "source": [
        "from sklearn.pipeline import Pipeline\n",
        "from sklearn.feature_extraction.text import TfidfVectorizer\n",
        "from sklearn.naive_bayes import MultinomialNB\n",
        "from sklearn.svm import LinearSVC\n",
        "\n",
        "# Naïve Bayes:\n",
        "text_clf_nb = Pipeline([('tfidf', TfidfVectorizer()),\n",
        "                     ('clf', MultinomialNB()),\n",
        "])\n",
        "\n",
        "# Linear SVC:\n",
        "text_clf_lsvc = Pipeline([('tfidf', TfidfVectorizer()),\n",
        "                     ('clf', LinearSVC()),\n",
        "])"
      ],
      "execution_count": null,
      "outputs": []
    },
    {
      "cell_type": "markdown",
      "metadata": {
        "id": "HsD_RUhXmdW-"
      },
      "source": [
        "**Feed the training data through the first pipeline:**"
      ]
    },
    {
      "cell_type": "code",
      "metadata": {
        "id": "u763mhkmmftN"
      },
      "source": [
        "#Running Naive Bayes\n",
        "\n",
        "text_clf_nb.fit(X_train, y_train)\n"
      ],
      "execution_count": null,
      "outputs": []
    },
    {
      "cell_type": "markdown",
      "metadata": {
        "id": "__1by6rdmpHJ"
      },
      "source": [
        "**Run predictions and analyze the results (naïve Bayes):**"
      ]
    },
    {
      "cell_type": "code",
      "metadata": {
        "id": "SZXD8Jh_msww"
      },
      "source": [
        "# Form a prediction set\n",
        "predictions = text_clf_nb.predict(X_test)"
      ],
      "execution_count": null,
      "outputs": []
    },
    {
      "cell_type": "code",
      "metadata": {
        "id": "2w5cYkdxmuWk"
      },
      "source": [
        "# Report the confusion matrix\n",
        "from sklearn import metrics\n",
        "print(metrics.confusion_matrix(y_test,predictions))"
      ],
      "execution_count": null,
      "outputs": []
    },
    {
      "cell_type": "code",
      "metadata": {
        "id": "ybDC6DTymvrP"
      },
      "source": [
        "# Print a classification report\n",
        "print(metrics.classification_report(y_test,predictions))"
      ],
      "execution_count": null,
      "outputs": []
    },
    {
      "cell_type": "code",
      "metadata": {
        "id": "W0NvqDrImyqZ"
      },
      "source": [
        "# Print the overall accuracy\n",
        "print(metrics.accuracy_score(y_test,predictions))"
      ],
      "execution_count": null,
      "outputs": []
    },
    {
      "cell_type": "markdown",
      "metadata": {
        "id": "oHumcazvm0VV"
      },
      "source": [
        "**Feed the training data through the second pipeline:**"
      ]
    },
    {
      "cell_type": "code",
      "metadata": {
        "id": "9phm6yJ2m2gp"
      },
      "source": [
        "#Running Linear SVC\n",
        "text_clf_lsvc.fit(X_train, y_train)"
      ],
      "execution_count": null,
      "outputs": []
    },
    {
      "cell_type": "markdown",
      "metadata": {
        "id": "-zFp-Bz5m86K"
      },
      "source": [
        "**Run predictions and analyze the results (Linear SVC):**"
      ]
    },
    {
      "cell_type": "code",
      "metadata": {
        "id": "vP7TYw1bm-H3"
      },
      "source": [
        "# Form a prediction set\n",
        "predictions = text_clf_lsvc.predict(X_test)"
      ],
      "execution_count": null,
      "outputs": []
    },
    {
      "cell_type": "code",
      "metadata": {
        "id": "JRFDVR3jm_ep"
      },
      "source": [
        "# Report the confusion matrix\n",
        "from sklearn import metrics\n",
        "print(metrics.confusion_matrix(y_test,predictions))"
      ],
      "execution_count": null,
      "outputs": []
    },
    {
      "cell_type": "code",
      "metadata": {
        "id": "VaPwukTenAwD"
      },
      "source": [
        "# Print a classification report\n",
        "print(metrics.classification_report(y_test,predictions))"
      ],
      "execution_count": null,
      "outputs": []
    },
    {
      "cell_type": "code",
      "metadata": {
        "id": "piVXNN1dnCCc"
      },
      "source": [
        "# Print the overall accuracy\n",
        "print(metrics.accuracy_score(y_test,predictions))\n"
      ],
      "execution_count": null,
      "outputs": []
    }
  ]
}